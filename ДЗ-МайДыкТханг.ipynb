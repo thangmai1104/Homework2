{
 "cells": [
  {
   "cell_type": "markdown",
   "id": "4d5865a8",
   "metadata": {},
   "source": [
    "# Задание №2"
   ]
  },
  {
   "cell_type": "code",
   "execution_count": 2,
   "id": "c95ef997",
   "metadata": {
    "scrolled": true
   },
   "outputs": [
    {
     "name": "stdout",
     "output_type": "stream",
     "text": [
      "   December 2022\n",
      "Mo Tu We Th Fr Sa Su\n",
      "          1  2  3  4\n",
      " 5  6  7  8  9 10 11\n",
      "12 13 14 15 16 17 18\n",
      "19 20 21 22 23 24 25\n",
      "26 27 28 29 30 31\n",
      "\n"
     ]
    }
   ],
   "source": [
    "import calendar\n",
    "yyyy = 2022\n",
    "mm = 12\n",
    "print(calendar.month(yyyy,mm))"
   ]
  },
  {
   "cell_type": "markdown",
   "id": "96134729",
   "metadata": {},
   "source": [
    "## Задание №3"
   ]
  },
  {
   "cell_type": "code",
   "execution_count": 4,
   "id": "3fa911c7",
   "metadata": {},
   "outputs": [
    {
     "name": "stdout",
     "output_type": "stream",
     "text": [
      "{2: 1, 3: 2, 4: 3, 5: 4, 6: 5, 7: 6, 8: 5, 9: 4, 10: 3, 11: 2, 12: 1}\n",
      "{2: 1, 3: 2, 4: 3, 5: 4, 6: 5, 7: 6, 8: 5, 9: 4, 10: 3, 11: 2, 12: 1}\n"
     ]
    }
   ],
   "source": [
    "B = [1,2,2,3,3,4]\n",
    "A = [1,3,4,5,6,8]\n",
    "standard_die = [1,2,3,4,5,6]\n",
    "def sum(first_gie,second_gie):\n",
    "  dict = {}\n",
    "  for i in first_gie:\n",
    "    for j in second_gie:\n",
    "      sum = i + j\n",
    "      if sum not in dict.keys():\n",
    "        dict[sum] = 1\n",
    "      else:\n",
    "        dict[sum]+=1\n",
    "  return dict\n",
    "\n",
    "print(sum(A,B))\n",
    "print(sum(standard_die,standard_die))"
   ]
  },
  {
   "cell_type": "code",
   "execution_count": null,
   "id": "50e6b37b",
   "metadata": {},
   "outputs": [],
   "source": []
  }
 ],
 "metadata": {
  "kernelspec": {
   "display_name": "Python 3 (ipykernel)",
   "language": "python",
   "name": "python3"
  },
  "language_info": {
   "codemirror_mode": {
    "name": "ipython",
    "version": 3
   },
   "file_extension": ".py",
   "mimetype": "text/x-python",
   "name": "python",
   "nbconvert_exporter": "python",
   "pygments_lexer": "ipython3",
   "version": "3.8.8"
  }
 },
 "nbformat": 4,
 "nbformat_minor": 5
}
